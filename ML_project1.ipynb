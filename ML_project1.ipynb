{
  "cells": [
    {
      "cell_type": "markdown",
      "source": [
        "<Body>   \n",
        "<img src=\"data:image/png;base64,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\" width=\"200\" align=\"right\" >   \n",
        "<h1> <b>Machine Learning 2022/2023 (2<sup>nd</sup> semester) </b> </h1>\n",
        "<p>Master in Electrical and Computer Engineering </p>\n",
        "<p>Department of Electrical and Computer Engineering</p>\n",
        "</Body>  \n",
        "\n",
        "**A. Pedro Aguiar** (pedro.aguiar@fe.up.pt),\n",
        "**Aníbal Matos** (anibal@fe.up.pt),\n",
        "**Daniel Costa** (danielgcosta@fe.up.pt),\n",
        "**Rui Gonçalves** (rjpg@fe.up.pt)\n",
        "\n",
        "FEUP, Feb. 2023\n",
        "\n",
        "---\n"
      ],
      "metadata": {
        "id": "kSqK8eQhRFsK"
      }
    },
    {
      "cell_type": "code",
      "source": [],
      "metadata": {
        "id": "eNQrQjKe_DP7"
      },
      "execution_count": null,
      "outputs": []
    },
    {
      "cell_type": "markdown",
      "source": [
        "# **Project #01**\n",
        "\n",
        "**Note:** This is to be done in group of **2** elements. Use this notebook to answer all the questions. At the end of the work, you should **upload** the **notebook** and a **pdf file** with a printout of the notebook with all the results in the **moodle** platform. \n",
        "\n",
        "**Deadlines:** Present the state of your work (and answer questions) on the week of **March 27** in your corresponding practical class. Upload the files until 23:59 of **April 7, 2023**.\n",
        "\n",
        "\n",
        "---\n",
        "\n"
      ],
      "metadata": {
        "id": "QxUSBzNsLUNv"
      }
    },
    {
      "cell_type": "code",
      "source": [
        "# To make a nice pdf file of this file, you have to do the following:\n",
        "# - upload this file into the running folder (click on the corresponding left icon)\n",
        "# Then run this (which will make a html file into the current folder):\n",
        "!jupyter nbconvert --to html \"ML_project1.ipynb\"\n",
        "# Then just download the html file and print it to pdf!"
      ],
      "metadata": {
        "id": "E_DBECV1SbUD"
      },
      "execution_count": null,
      "outputs": []
    },
    {
      "cell_type": "markdown",
      "source": [
        "# **Identification**\n",
        "\n",
        "* **Group:** xx\n",
        "* **Name:** xxx\n",
        "* **Student Number:**\n",
        "\n",
        "* **Name:**\n",
        "* **Student Number:**\n",
        "\n",
        "\n",
        "---\n",
        "\n",
        "\n"
      ],
      "metadata": {
        "id": "7TlqLg-37GV0"
      }
    },
    {
      "cell_type": "markdown",
      "source": [
        "**Initial setup:** To download the file **data-set.cvs**, run the next cell."
      ],
      "metadata": {
        "id": "NExKwtrzBQPM"
      }
    },
    {
      "cell_type": "code",
      "source": [
        "!wget -O dataset.csv.zip https://www.dropbox.com/s/9y0s2ogjovkwrbm/data-set.csv.zip?dl=0 --quiet\n",
        "!unzip dataset.csv.zip -d. \n"
      ],
      "metadata": {
        "id": "FRAhmiI0T7ea",
        "outputId": "dc70ca5f-6114-4cf0-a5d8-b1009a60cf9a",
        "colab": {
          "base_uri": "https://localhost:8080/"
        }
      },
      "execution_count": 1,
      "outputs": [
        {
          "output_type": "stream",
          "name": "stdout",
          "text": [
            "Archive:  dataset.csv.zip\n",
            "  inflating: ./data-set.csv          \n",
            "  inflating: ./__MACOSX/._data-set.csv  \n"
          ]
        }
      ]
    },
    {
      "cell_type": "code",
      "source": [
        "# Then, run this code to get the data-set\n",
        "\n",
        "import pandas as pd\n",
        "df = pd.read_csv('data-set.csv', index_col=0)\n",
        "df\n",
        "#df\n",
        "\n",
        "# By convention, values that are zero signify no measurements.\n",
        "# The units are:\n",
        "# [m] for x and y\n",
        "# [m/s] for the velocities vx and vy\n",
        "# [m] for the LIDAR ranges"
      ],
      "metadata": {
        "colab": {
          "base_uri": "https://localhost:8080/",
          "height": 505
        },
        "id": "Zea6v9q6c73n",
        "outputId": "2a673c6b-1c4e-4893-da89-7113c0fe195f"
      },
      "execution_count": 2,
      "outputs": [
        {
          "output_type": "execute_result",
          "data": {
            "text/plain": [
              "     time         x         y        vx        vy  angle -179  angle -178  \\\n",
              "0     0.0 -3.946339 -2.912177  0.711051 -0.307325         0.0         0.0   \n",
              "1     0.1  0.000000  0.000000  0.678366 -0.308563         0.0         0.0   \n",
              "2     0.2  0.000000  0.000000  0.677682 -0.285029         0.0         0.0   \n",
              "3     0.3  0.000000  0.000000  0.648523 -0.293170         0.0         0.0   \n",
              "4     0.4  0.000000  0.000000  0.644965 -0.277222         0.0         0.0   \n",
              "..    ...       ...       ...       ...       ...         ...         ...   \n",
              "495  49.5  3.855108 -3.928327 -0.078142 -0.093745         0.0         0.0   \n",
              "496  49.6  0.000000  0.000000 -0.088140 -0.103430         0.0         0.0   \n",
              "497  49.7  0.000000  0.000000 -0.078002 -0.092986         0.0         0.0   \n",
              "498  49.8  0.000000  0.000000 -0.076514 -0.091199         0.0         0.0   \n",
              "499  49.9  0.000000  0.000000 -0.078499 -0.092891         0.0         0.0   \n",
              "\n",
              "     angle -177  angle -176  angle -175  ...  angle 171  angle 172  angle 173  \\\n",
              "0           0.0         0.0         0.0  ...        0.0        0.0        0.0   \n",
              "1           0.0         0.0         0.0  ...        0.0        0.0        0.0   \n",
              "2           0.0         0.0         0.0  ...        0.0        0.0        0.0   \n",
              "3           0.0         0.0         0.0  ...        0.0        0.0        0.0   \n",
              "4           0.0         0.0         0.0  ...        0.0        0.0        0.0   \n",
              "..          ...         ...         ...  ...        ...        ...        ...   \n",
              "495         0.0         0.0         0.0  ...        0.0        0.0        0.0   \n",
              "496         0.0         0.0         0.0  ...        0.0        0.0        0.0   \n",
              "497         0.0         0.0         0.0  ...        0.0        0.0        0.0   \n",
              "498         0.0         0.0         0.0  ...        0.0        0.0        0.0   \n",
              "499         0.0         0.0         0.0  ...        0.0        0.0        0.0   \n",
              "\n",
              "     angle 174  angle 175  angle 176  angle 177  angle 178  angle 179  \\\n",
              "0          0.0        0.0        0.0        0.0        0.0        0.0   \n",
              "1          0.0        0.0        0.0        0.0        0.0        0.0   \n",
              "2          0.0        0.0        0.0        0.0        0.0        0.0   \n",
              "3          0.0        0.0        0.0        0.0        0.0        0.0   \n",
              "4          0.0        0.0        0.0        0.0        0.0        0.0   \n",
              "..         ...        ...        ...        ...        ...        ...   \n",
              "495        0.0        0.0        0.0        0.0        0.0        0.0   \n",
              "496        0.0        0.0        0.0        0.0        0.0        0.0   \n",
              "497        0.0        0.0        0.0        0.0        0.0        0.0   \n",
              "498        0.0        0.0        0.0        0.0        0.0        0.0   \n",
              "499        0.0        0.0        0.0        0.0        0.0        0.0   \n",
              "\n",
              "     angle 180  \n",
              "0          0.0  \n",
              "1          0.0  \n",
              "2          0.0  \n",
              "3          0.0  \n",
              "4          0.0  \n",
              "..         ...  \n",
              "495        0.0  \n",
              "496        0.0  \n",
              "497        0.0  \n",
              "498        0.0  \n",
              "499        0.0  \n",
              "\n",
              "[500 rows x 365 columns]"
            ],
            "text/html": [
              "\n",
              "  <div id=\"df-e11d1130-217c-4051-ab27-5e063cf44333\">\n",
              "    <div class=\"colab-df-container\">\n",
              "      <div>\n",
              "<style scoped>\n",
              "    .dataframe tbody tr th:only-of-type {\n",
              "        vertical-align: middle;\n",
              "    }\n",
              "\n",
              "    .dataframe tbody tr th {\n",
              "        vertical-align: top;\n",
              "    }\n",
              "\n",
              "    .dataframe thead th {\n",
              "        text-align: right;\n",
              "    }\n",
              "</style>\n",
              "<table border=\"1\" class=\"dataframe\">\n",
              "  <thead>\n",
              "    <tr style=\"text-align: right;\">\n",
              "      <th></th>\n",
              "      <th>time</th>\n",
              "      <th>x</th>\n",
              "      <th>y</th>\n",
              "      <th>vx</th>\n",
              "      <th>vy</th>\n",
              "      <th>angle -179</th>\n",
              "      <th>angle -178</th>\n",
              "      <th>angle -177</th>\n",
              "      <th>angle -176</th>\n",
              "      <th>angle -175</th>\n",
              "      <th>...</th>\n",
              "      <th>angle 171</th>\n",
              "      <th>angle 172</th>\n",
              "      <th>angle 173</th>\n",
              "      <th>angle 174</th>\n",
              "      <th>angle 175</th>\n",
              "      <th>angle 176</th>\n",
              "      <th>angle 177</th>\n",
              "      <th>angle 178</th>\n",
              "      <th>angle 179</th>\n",
              "      <th>angle 180</th>\n",
              "    </tr>\n",
              "  </thead>\n",
              "  <tbody>\n",
              "    <tr>\n",
              "      <th>0</th>\n",
              "      <td>0.0</td>\n",
              "      <td>-3.946339</td>\n",
              "      <td>-2.912177</td>\n",
              "      <td>0.711051</td>\n",
              "      <td>-0.307325</td>\n",
              "      <td>0.0</td>\n",
              "      <td>0.0</td>\n",
              "      <td>0.0</td>\n",
              "      <td>0.0</td>\n",
              "      <td>0.0</td>\n",
              "      <td>...</td>\n",
              "      <td>0.0</td>\n",
              "      <td>0.0</td>\n",
              "      <td>0.0</td>\n",
              "      <td>0.0</td>\n",
              "      <td>0.0</td>\n",
              "      <td>0.0</td>\n",
              "      <td>0.0</td>\n",
              "      <td>0.0</td>\n",
              "      <td>0.0</td>\n",
              "      <td>0.0</td>\n",
              "    </tr>\n",
              "    <tr>\n",
              "      <th>1</th>\n",
              "      <td>0.1</td>\n",
              "      <td>0.000000</td>\n",
              "      <td>0.000000</td>\n",
              "      <td>0.678366</td>\n",
              "      <td>-0.308563</td>\n",
              "      <td>0.0</td>\n",
              "      <td>0.0</td>\n",
              "      <td>0.0</td>\n",
              "      <td>0.0</td>\n",
              "      <td>0.0</td>\n",
              "      <td>...</td>\n",
              "      <td>0.0</td>\n",
              "      <td>0.0</td>\n",
              "      <td>0.0</td>\n",
              "      <td>0.0</td>\n",
              "      <td>0.0</td>\n",
              "      <td>0.0</td>\n",
              "      <td>0.0</td>\n",
              "      <td>0.0</td>\n",
              "      <td>0.0</td>\n",
              "      <td>0.0</td>\n",
              "    </tr>\n",
              "    <tr>\n",
              "      <th>2</th>\n",
              "      <td>0.2</td>\n",
              "      <td>0.000000</td>\n",
              "      <td>0.000000</td>\n",
              "      <td>0.677682</td>\n",
              "      <td>-0.285029</td>\n",
              "      <td>0.0</td>\n",
              "      <td>0.0</td>\n",
              "      <td>0.0</td>\n",
              "      <td>0.0</td>\n",
              "      <td>0.0</td>\n",
              "      <td>...</td>\n",
              "      <td>0.0</td>\n",
              "      <td>0.0</td>\n",
              "      <td>0.0</td>\n",
              "      <td>0.0</td>\n",
              "      <td>0.0</td>\n",
              "      <td>0.0</td>\n",
              "      <td>0.0</td>\n",
              "      <td>0.0</td>\n",
              "      <td>0.0</td>\n",
              "      <td>0.0</td>\n",
              "    </tr>\n",
              "    <tr>\n",
              "      <th>3</th>\n",
              "      <td>0.3</td>\n",
              "      <td>0.000000</td>\n",
              "      <td>0.000000</td>\n",
              "      <td>0.648523</td>\n",
              "      <td>-0.293170</td>\n",
              "      <td>0.0</td>\n",
              "      <td>0.0</td>\n",
              "      <td>0.0</td>\n",
              "      <td>0.0</td>\n",
              "      <td>0.0</td>\n",
              "      <td>...</td>\n",
              "      <td>0.0</td>\n",
              "      <td>0.0</td>\n",
              "      <td>0.0</td>\n",
              "      <td>0.0</td>\n",
              "      <td>0.0</td>\n",
              "      <td>0.0</td>\n",
              "      <td>0.0</td>\n",
              "      <td>0.0</td>\n",
              "      <td>0.0</td>\n",
              "      <td>0.0</td>\n",
              "    </tr>\n",
              "    <tr>\n",
              "      <th>4</th>\n",
              "      <td>0.4</td>\n",
              "      <td>0.000000</td>\n",
              "      <td>0.000000</td>\n",
              "      <td>0.644965</td>\n",
              "      <td>-0.277222</td>\n",
              "      <td>0.0</td>\n",
              "      <td>0.0</td>\n",
              "      <td>0.0</td>\n",
              "      <td>0.0</td>\n",
              "      <td>0.0</td>\n",
              "      <td>...</td>\n",
              "      <td>0.0</td>\n",
              "      <td>0.0</td>\n",
              "      <td>0.0</td>\n",
              "      <td>0.0</td>\n",
              "      <td>0.0</td>\n",
              "      <td>0.0</td>\n",
              "      <td>0.0</td>\n",
              "      <td>0.0</td>\n",
              "      <td>0.0</td>\n",
              "      <td>0.0</td>\n",
              "    </tr>\n",
              "    <tr>\n",
              "      <th>...</th>\n",
              "      <td>...</td>\n",
              "      <td>...</td>\n",
              "      <td>...</td>\n",
              "      <td>...</td>\n",
              "      <td>...</td>\n",
              "      <td>...</td>\n",
              "      <td>...</td>\n",
              "      <td>...</td>\n",
              "      <td>...</td>\n",
              "      <td>...</td>\n",
              "      <td>...</td>\n",
              "      <td>...</td>\n",
              "      <td>...</td>\n",
              "      <td>...</td>\n",
              "      <td>...</td>\n",
              "      <td>...</td>\n",
              "      <td>...</td>\n",
              "      <td>...</td>\n",
              "      <td>...</td>\n",
              "      <td>...</td>\n",
              "      <td>...</td>\n",
              "    </tr>\n",
              "    <tr>\n",
              "      <th>495</th>\n",
              "      <td>49.5</td>\n",
              "      <td>3.855108</td>\n",
              "      <td>-3.928327</td>\n",
              "      <td>-0.078142</td>\n",
              "      <td>-0.093745</td>\n",
              "      <td>0.0</td>\n",
              "      <td>0.0</td>\n",
              "      <td>0.0</td>\n",
              "      <td>0.0</td>\n",
              "      <td>0.0</td>\n",
              "      <td>...</td>\n",
              "      <td>0.0</td>\n",
              "      <td>0.0</td>\n",
              "      <td>0.0</td>\n",
              "      <td>0.0</td>\n",
              "      <td>0.0</td>\n",
              "      <td>0.0</td>\n",
              "      <td>0.0</td>\n",
              "      <td>0.0</td>\n",
              "      <td>0.0</td>\n",
              "      <td>0.0</td>\n",
              "    </tr>\n",
              "    <tr>\n",
              "      <th>496</th>\n",
              "      <td>49.6</td>\n",
              "      <td>0.000000</td>\n",
              "      <td>0.000000</td>\n",
              "      <td>-0.088140</td>\n",
              "      <td>-0.103430</td>\n",
              "      <td>0.0</td>\n",
              "      <td>0.0</td>\n",
              "      <td>0.0</td>\n",
              "      <td>0.0</td>\n",
              "      <td>0.0</td>\n",
              "      <td>...</td>\n",
              "      <td>0.0</td>\n",
              "      <td>0.0</td>\n",
              "      <td>0.0</td>\n",
              "      <td>0.0</td>\n",
              "      <td>0.0</td>\n",
              "      <td>0.0</td>\n",
              "      <td>0.0</td>\n",
              "      <td>0.0</td>\n",
              "      <td>0.0</td>\n",
              "      <td>0.0</td>\n",
              "    </tr>\n",
              "    <tr>\n",
              "      <th>497</th>\n",
              "      <td>49.7</td>\n",
              "      <td>0.000000</td>\n",
              "      <td>0.000000</td>\n",
              "      <td>-0.078002</td>\n",
              "      <td>-0.092986</td>\n",
              "      <td>0.0</td>\n",
              "      <td>0.0</td>\n",
              "      <td>0.0</td>\n",
              "      <td>0.0</td>\n",
              "      <td>0.0</td>\n",
              "      <td>...</td>\n",
              "      <td>0.0</td>\n",
              "      <td>0.0</td>\n",
              "      <td>0.0</td>\n",
              "      <td>0.0</td>\n",
              "      <td>0.0</td>\n",
              "      <td>0.0</td>\n",
              "      <td>0.0</td>\n",
              "      <td>0.0</td>\n",
              "      <td>0.0</td>\n",
              "      <td>0.0</td>\n",
              "    </tr>\n",
              "    <tr>\n",
              "      <th>498</th>\n",
              "      <td>49.8</td>\n",
              "      <td>0.000000</td>\n",
              "      <td>0.000000</td>\n",
              "      <td>-0.076514</td>\n",
              "      <td>-0.091199</td>\n",
              "      <td>0.0</td>\n",
              "      <td>0.0</td>\n",
              "      <td>0.0</td>\n",
              "      <td>0.0</td>\n",
              "      <td>0.0</td>\n",
              "      <td>...</td>\n",
              "      <td>0.0</td>\n",
              "      <td>0.0</td>\n",
              "      <td>0.0</td>\n",
              "      <td>0.0</td>\n",
              "      <td>0.0</td>\n",
              "      <td>0.0</td>\n",
              "      <td>0.0</td>\n",
              "      <td>0.0</td>\n",
              "      <td>0.0</td>\n",
              "      <td>0.0</td>\n",
              "    </tr>\n",
              "    <tr>\n",
              "      <th>499</th>\n",
              "      <td>49.9</td>\n",
              "      <td>0.000000</td>\n",
              "      <td>0.000000</td>\n",
              "      <td>-0.078499</td>\n",
              "      <td>-0.092891</td>\n",
              "      <td>0.0</td>\n",
              "      <td>0.0</td>\n",
              "      <td>0.0</td>\n",
              "      <td>0.0</td>\n",
              "      <td>0.0</td>\n",
              "      <td>...</td>\n",
              "      <td>0.0</td>\n",
              "      <td>0.0</td>\n",
              "      <td>0.0</td>\n",
              "      <td>0.0</td>\n",
              "      <td>0.0</td>\n",
              "      <td>0.0</td>\n",
              "      <td>0.0</td>\n",
              "      <td>0.0</td>\n",
              "      <td>0.0</td>\n",
              "      <td>0.0</td>\n",
              "    </tr>\n",
              "  </tbody>\n",
              "</table>\n",
              "<p>500 rows × 365 columns</p>\n",
              "</div>\n",
              "      <button class=\"colab-df-convert\" onclick=\"convertToInteractive('df-e11d1130-217c-4051-ab27-5e063cf44333')\"\n",
              "              title=\"Convert this dataframe to an interactive table.\"\n",
              "              style=\"display:none;\">\n",
              "        \n",
              "  <svg xmlns=\"http://www.w3.org/2000/svg\" height=\"24px\"viewBox=\"0 0 24 24\"\n",
              "       width=\"24px\">\n",
              "    <path d=\"M0 0h24v24H0V0z\" fill=\"none\"/>\n",
              "    <path d=\"M18.56 5.44l.94 2.06.94-2.06 2.06-.94-2.06-.94-.94-2.06-.94 2.06-2.06.94zm-11 1L8.5 8.5l.94-2.06 2.06-.94-2.06-.94L8.5 2.5l-.94 2.06-2.06.94zm10 10l.94 2.06.94-2.06 2.06-.94-2.06-.94-.94-2.06-.94 2.06-2.06.94z\"/><path d=\"M17.41 7.96l-1.37-1.37c-.4-.4-.92-.59-1.43-.59-.52 0-1.04.2-1.43.59L10.3 9.45l-7.72 7.72c-.78.78-.78 2.05 0 2.83L4 21.41c.39.39.9.59 1.41.59.51 0 1.02-.2 1.41-.59l7.78-7.78 2.81-2.81c.8-.78.8-2.07 0-2.86zM5.41 20L4 18.59l7.72-7.72 1.47 1.35L5.41 20z\"/>\n",
              "  </svg>\n",
              "      </button>\n",
              "      \n",
              "  <style>\n",
              "    .colab-df-container {\n",
              "      display:flex;\n",
              "      flex-wrap:wrap;\n",
              "      gap: 12px;\n",
              "    }\n",
              "\n",
              "    .colab-df-convert {\n",
              "      background-color: #E8F0FE;\n",
              "      border: none;\n",
              "      border-radius: 50%;\n",
              "      cursor: pointer;\n",
              "      display: none;\n",
              "      fill: #1967D2;\n",
              "      height: 32px;\n",
              "      padding: 0 0 0 0;\n",
              "      width: 32px;\n",
              "    }\n",
              "\n",
              "    .colab-df-convert:hover {\n",
              "      background-color: #E2EBFA;\n",
              "      box-shadow: 0px 1px 2px rgba(60, 64, 67, 0.3), 0px 1px 3px 1px rgba(60, 64, 67, 0.15);\n",
              "      fill: #174EA6;\n",
              "    }\n",
              "\n",
              "    [theme=dark] .colab-df-convert {\n",
              "      background-color: #3B4455;\n",
              "      fill: #D2E3FC;\n",
              "    }\n",
              "\n",
              "    [theme=dark] .colab-df-convert:hover {\n",
              "      background-color: #434B5C;\n",
              "      box-shadow: 0px 1px 3px 1px rgba(0, 0, 0, 0.15);\n",
              "      filter: drop-shadow(0px 1px 2px rgba(0, 0, 0, 0.3));\n",
              "      fill: #FFFFFF;\n",
              "    }\n",
              "  </style>\n",
              "\n",
              "      <script>\n",
              "        const buttonEl =\n",
              "          document.querySelector('#df-e11d1130-217c-4051-ab27-5e063cf44333 button.colab-df-convert');\n",
              "        buttonEl.style.display =\n",
              "          google.colab.kernel.accessAllowed ? 'block' : 'none';\n",
              "\n",
              "        async function convertToInteractive(key) {\n",
              "          const element = document.querySelector('#df-e11d1130-217c-4051-ab27-5e063cf44333');\n",
              "          const dataTable =\n",
              "            await google.colab.kernel.invokeFunction('convertToInteractive',\n",
              "                                                     [key], {});\n",
              "          if (!dataTable) return;\n",
              "\n",
              "          const docLinkHtml = 'Like what you see? Visit the ' +\n",
              "            '<a target=\"_blank\" href=https://colab.research.google.com/notebooks/data_table.ipynb>data table notebook</a>'\n",
              "            + ' to learn more about interactive tables.';\n",
              "          element.innerHTML = '';\n",
              "          dataTable['output_type'] = 'display_data';\n",
              "          await google.colab.output.renderOutput(dataTable, element);\n",
              "          const docLink = document.createElement('div');\n",
              "          docLink.innerHTML = docLinkHtml;\n",
              "          element.appendChild(docLink);\n",
              "        }\n",
              "      </script>\n",
              "    </div>\n",
              "  </div>\n",
              "  "
            ]
          },
          "metadata": {},
          "execution_count": 2
        }
      ]
    },
    {
      "cell_type": "markdown",
      "source": [
        "# **Part 1: Kalman filter design**\n",
        "\n"
      ],
      "metadata": {
        "id": "5mf3-7NwJIDW"
      }
    },
    {
      "cell_type": "markdown",
      "source": [
        "Consider a holonomic mobile robot in the 2D plan and suppose that one can get measurements from its linear velocity every time step $t=0, 0.1, 0.2, \\ldots$ (in seconds) and its position every time step $t=0, 0.5, 1.0, 1.5 \\ldots$ (in seconds). Suppose also that the measurements are corrupted by additive Gaussian noise and furthermore, the linear velocity measurements may also include a unknown but constant bias term. The goal is to obtain an estimate of the position of the robot together with a measure of its uncertainty. To this end, we will implement a Kalman filter (KF)!\n",
        " \n",
        "### **Model:**\n",
        "Let $(x_t, y_t)$ be the position of the robot at time step $t$, and $(v_{x,t}, v_{y,t})$ its linear velocity. Let $(b_{x,t}, b_{y,t})$ be the bias term and $w_t$ and $\\eta_t$ Gaussian noises. Then, a state-space model to design the KF can be written as\n",
        "\n",
        "\n",
        "*x-direction*\n",
        "\\begin{align*}\n",
        "\\begin{bmatrix}\n",
        "x_{t+1} \\\\\n",
        "b_{x,t+1}\n",
        "\\end{bmatrix}\n",
        "&= \\begin{bmatrix}\n",
        "1 &h \\\\\n",
        "0 &1\n",
        "\\end{bmatrix}\n",
        "\\begin{bmatrix}\n",
        "x_{t} \\\\\n",
        "b_{x,t}\n",
        "\\end{bmatrix}\n",
        "+\\begin{bmatrix}\n",
        "h \\\\\n",
        "0\n",
        "\\end{bmatrix}\n",
        "v_{x,t}\n",
        "+ w_{x,t} \\quad t=0, 0.1, 0.2, \\ldots \\\\\n",
        "z_{x,t} &= \n",
        "\\begin{bmatrix}\n",
        "1 & 0\n",
        "\\end{bmatrix}\n",
        "\\begin{bmatrix}\n",
        "x_{t} \\\\\n",
        "b_{x,t}\n",
        "\\end{bmatrix} +  \\eta_{x,t}, \\quad t=0, 0.5, 1.0, 1.5 \\ldots\n",
        "\\end{align*}\n",
        "\n",
        "*y-direction*\n",
        "\\begin{align*}\n",
        "\\begin{bmatrix}\n",
        "y_{t+1} \\\\\n",
        "b_{y,t+1}\n",
        "\\end{bmatrix}\n",
        "&= \\begin{bmatrix}\n",
        "1 &h \\\\\n",
        "0 &1\n",
        "\\end{bmatrix}\n",
        "\\begin{bmatrix}\n",
        "y_{t} \\\\\n",
        "b_{y,t}\n",
        "\\end{bmatrix}\n",
        "+\\begin{bmatrix}\n",
        "h \\\\\n",
        "0\n",
        "\\end{bmatrix}\n",
        "v_{y,t}\n",
        "+ w_{y,t} \\quad t=0, 0.1, 0.2, \\ldots \\\\\n",
        "z_{y,t} &= \n",
        "\\begin{bmatrix}\n",
        "1 & 0\n",
        "\\end{bmatrix}\n",
        "\\begin{bmatrix}\n",
        "y_{t} \\\\\n",
        "b_{y,t}\n",
        "\\end{bmatrix} +  \\eta_{y,t}, \\quad t=0, 0.5, 1.0, 1.5 \\ldots\n",
        "\\end{align*}\n",
        "where $(z_{x,t}, z_{y,t})$ is the output vector and $h=0.1\\,s$ is the sample time."
      ],
      "metadata": {
        "id": "BaK9haelYr-S"
      }
    },
    {
      "cell_type": "markdown",
      "source": [
        "**Note:** We have decomposed the model in two decoupled parts (x and y directions). Thus, it is possible to design a KF for each direction."
      ],
      "metadata": {
        "id": "UMtEUyc5w5Uq"
      }
    },
    {
      "cell_type": "markdown",
      "source": [
        "**1.1** \n",
        "Implement 2 KFs (one for each direction) and display the evolution along time of the estimated position of the robot and the estimated bias term. Display also the estimated trajectory 2D."
      ],
      "metadata": {
        "id": "zOKhgz6fMuDz"
      }
    },
    {
      "cell_type": "code",
      "source": [
        "import numpy as np\n",
        "from numpy import * \n",
        "import matplotlib.pyplot as plt\n",
        "\n",
        "time = df[\"time\"].values\n",
        "x = df[\"x\"].values\n",
        "y = df[\"y\"].values\n",
        "vx = df[\"vx\"].values\n",
        "vy = df[\"vy\"].values\n"
      ],
      "metadata": {
        "id": "bf4hZfJkerNZ"
      },
      "execution_count": 3,
      "outputs": []
    },
    {
      "cell_type": "code",
      "source": [
        "\n",
        "import matplotlib.pyplot as plt\n",
        "import numpy as np\n",
        "from numpy import dot \n",
        "from numpy import * \n",
        "from numpy.linalg import inv \n",
        "from numpy.linalg import det\n",
        "import random\n",
        "random.seed(3)\n",
        "\n",
        "\n",
        "# Predict Function\n",
        "def kf_predict(X, P, A, Q, B, U): \n",
        "    \"\"\"      \n",
        "      X : The mean state estimate of the previous step (k−1) - shape(m,1) \n",
        "      P : The state covariance of previous step (k−1) - shape(m,m) \n",
        "      A : The transition  matrix - shape(m,m) \n",
        "      Q : The process noise covariance matrix - shape(m,m) \n",
        "      B : The input effect matrix - shape(p, m) \n",
        "      U : The control input - shape(q,1)\n",
        "    \"\"\" \n",
        "    X = A @ X + B @ U \n",
        "    P = A @ P @ A.T + Q \n",
        "    return(X,P) \n",
        "\n",
        "def kf_update(X, P, Y, H, R): \n",
        "    \"\"\"      \n",
        "      K  : the Kalman Gain matrix \n",
        "      IS : the Covariance or predictive mean of Y  \n",
        "    \"\"\"\n",
        "    IS = H @ P @ H.T + R  \n",
        "    K = P @ H.T @ inv(IS) \n",
        "    X = X + K @ (Y- H @ X) \n",
        "    P = P - K @ IS @ K.T \n",
        "#    P = P - K @ H @ P \n",
        "    return (X,P) \n",
        "\n",
        "# time step\n",
        "h = 0.1\n",
        "\n",
        "# ini state (Position, Bias) = (0,20)\n",
        "\n",
        "X_x = np.array( [ [0.0] , [20.0]]  ) \n",
        "X_y = np.array( [ [0.0] , [20.0]]  ) \n",
        "\n",
        "# ini Covar : we start with a very high variance and during it the variance will converge to a lower value\n",
        "P_x = np.array( [ [ 999.0, 0.0 ] ,\n",
        "                [ 0.0, 999.0 ] ]  ) \n",
        "P_y = np.array( [ [ 999.0, 0.0 ] ,\n",
        "                [ 0.0, 999.0 ] ]  ) \n",
        "\n",
        "\n",
        "# state matrix \n",
        "A = np.array( [ [ 1.0, h ] ,\n",
        "                [ 0.0, 1.0  ] ] )         \n",
        "\n",
        "# input effect matrix\n",
        "B = np.array( [ [h], [0] ] )     \n",
        "\n",
        "# meas matrix\n",
        "H = np.array( [ [ 1.0, 0.0 ] ] )          \n",
        "\n",
        "## Ask for the noise\n",
        "\n",
        "# meas noise\n",
        "R = np.array([ [random.randint(0,10)] ] ) \n",
        "\n",
        "# process noise\n",
        "Q = np.array(np.eye(2) * 5 ) \n",
        "\n",
        "# every 5 iteration\n",
        "t_time = []\n",
        "\n",
        "# means    \n",
        "x_time = []      # x position of robot over time (mean)\n",
        "y_time = []\n",
        "bias_x_time = []      # x bias over time (mean)\n",
        "bias_y_time = []\n",
        "\n",
        "# std devs     \n",
        "x_sd_time = []      # x position of robot over time (std)\n",
        "y_sd_time = []\n",
        "bias_sd_x_time = []      # x bias over time (std)\n",
        "bias_sd_y_time = []\n",
        "\n",
        "# up and down\n",
        "x_up_time = []   # d mean + one std_dev\n",
        "y_up_time = []\n",
        "x_dn_time = []   # d mean - one std_dev\n",
        "y_dn_time = []  \n",
        "b_x_up_time = []  \n",
        "b_y_up_time = []\n",
        "b_x_dn_time  = []\n",
        "b_y_dn_time = []\n",
        "\n",
        "#\n",
        "# Kalman Filter loop\n",
        "#\n",
        "\n",
        "N_iter = len(time)    # implies dt*N_iter seconds\n",
        "tt = 0\n",
        "for t in arange(0, N_iter):\n",
        "\n",
        "  U_x = np.array([ [vx[t]] ]) # put the input in the right variable\n",
        "  U_y = np.array([ [vy[t]] ])\n",
        "\n",
        "  R = np.array([ [random.randint(0,10)] ] ) \n",
        "  \n",
        "  (X_x, P_x) =  kf_predict(X_x, P_x, A, Q, B, U_x)\n",
        "  (X_y, P_y) =  kf_predict(X_y, P_y, A, Q, B, U_y)\n",
        "\n",
        "  if t%5 == 0:\n",
        "    tt += 0.5\n",
        "    t_time.append(tt)\n",
        "    Y_x = np.array([ [x[t]] ])\n",
        "    Y_y = np.array([ [y[t]] ])\n",
        "    \n",
        "    (X_x, P_x) = kf_update(X_x, P_x, Y_x, H, R)\n",
        "    (X_y,P_y) =  kf_update(X_y, P_y, Y_y, H, R) \n",
        "\n",
        "  # mean\n",
        "  x_time.append( X_x[0].item() )\n",
        "  bias_x_time.append( X_x[1].item() )\n",
        "  y_time.append( X_y[0].item() )\n",
        "  bias_y_time.append( X_y[1].item() )\n",
        "\n",
        "  # std devs\n",
        "  x_sd_time.append( P_x[0][0].item() )\n",
        "  bias_sd_x_time.append( P_x[1][1].item() )\n",
        "  y_sd_time.append( P_y[0][0].item() )\n",
        "  bias_sd_y_time.append( P_y[1][1].item() )\n",
        "\n",
        "  # up and down\n",
        "  x_up_time.append( X_x[0].item() + sqrt( P_x[0][0]).item() )\n",
        "  y_up_time.append( X_y[0].item() + sqrt( P_y[0][0]).item() )\n",
        "  x_dn_time.append( X_x[0].item() - sqrt( P_x[0][0]).item() )\n",
        "  y_dn_time.append( X_y[0].item() - sqrt( P_y[0][0]).item() )\n",
        "    \n",
        "  b_x_up_time.append( X_x[1].item() + sqrt( P_x[1][1]).item() )\n",
        "  b_y_up_time.append( X_y[1].item() + sqrt( P_y[1][1]).item() )\n",
        "  b_x_dn_time.append( X_x[1].item() - sqrt( P_x[1][1]).item() )\n",
        "  b_y_dn_time.append( X_y[1].item() - sqrt( P_y[1][1]).item() )\n",
        "\n",
        "x_no_zero = [el for el in x if el !=0]\n",
        "y_no_zero = [el for el in y if el !=0]\n",
        "fig = plt.figure(figsize=(8,8))\n",
        "# x\n",
        "chart1 = fig.add_subplot(221)\n",
        "chart1.plot(t_time, x_no_zero, label='x_meas', c=\"b\", linewidth=3, alpha=0.2)\n",
        "chart1.plot(time,x_time, label='x_pred', c=\"b\")\n",
        "chart1.fill_between(time, x_dn_time, x_up_time, alpha=0.2, linewidth=0, label='$d\\pm\\sigma$')\n",
        "plt.legend(loc='upper left')\n",
        "chart1.set_ylabel('x')\n",
        "plt.grid()\n",
        "\n",
        "# y\n",
        "chart2 = fig.add_subplot(222)\n",
        "chart2.plot(t_time, y_no_zero, label='y_meas', c=\"b\", linewidth=3, alpha=0.2)\n",
        "chart2.plot(time,y_time, label='y_pred', c=\"b\")\n",
        "chart2.fill_between(time, y_dn_time, y_up_time, alpha=0.2, linewidth=0, label='$d\\pm\\sigma$')\n",
        "plt.legend(loc='upper left')\n",
        "chart2.set_ylabel('y')\n",
        "plt.grid()\n",
        "\n",
        "# bias x\n",
        "chart3 = fig.add_subplot(223)\n",
        "chart3.plot(time,bias_x_time, label='bias_x', c=\"b\")\n",
        "chart3.fill_between(time, b_x_dn_time, b_x_up_time, alpha=0.2, linewidth=0, label='$d\\pm\\sigma$')\n",
        "plt.legend(loc='upper left')\n",
        "chart3.set_ylabel('bias x')\n",
        "\n",
        "# bias y \n",
        "chart4 = fig.add_subplot(224)\n",
        "chart4.plot(time,bias_y_time, label='bias_y', c=\"b\")\n",
        "chart4.fill_between(time, b_y_dn_time, b_y_up_time, alpha=0.2, linewidth=0, label='$d\\pm\\sigma$')\n",
        "plt.legend(loc='upper left')\n",
        "chart4.set_ylabel('bias y')\n",
        "\n",
        "plt.grid()\n",
        "\n",
        "'''# v\n",
        "chart2 = fig.add_subplot(212)\n",
        "chart2.plot(t_time, train_v_time, label='train_v', c=\"g\", linewidth=3, alpha=0.2)\n",
        "chart2.plot(t_time,v_time, label='v', c=\"g\")\n",
        "chart2.fill_between(t_time,v_dn_time,v_up_time, alpha=0.2, label='$v\\pm\\sigma$')\n",
        "chart2.set_ylabel('v [m/s]')\n",
        "chart2.set_xlabel('t [s]')\n",
        "plt.legend(loc='upper left')\n",
        "plt.grid()\n",
        "plt.show()\n",
        "'''\n",
        " \n",
        "# End For Loop\n",
        "\n"
      ],
      "metadata": {
        "id": "ORFwcB6tNiy9",
        "colab": {
          "base_uri": "https://localhost:8080/",
          "height": 539
        },
        "outputId": "ddc95deb-1ebd-45ec-c4cd-2337cbb805ae"
      },
      "execution_count": 4,
      "outputs": [
        {
          "output_type": "execute_result",
          "data": {
            "text/plain": [
              "'# v\\nchart2 = fig.add_subplot(212)\\nchart2.plot(t_time, train_v_time, label=\\'train_v\\', c=\"g\", linewidth=3, alpha=0.2)\\nchart2.plot(t_time,v_time, label=\\'v\\', c=\"g\")\\nchart2.fill_between(t_time,v_dn_time,v_up_time, alpha=0.2, label=\\'$v\\\\pm\\\\sigma$\\')\\nchart2.set_ylabel(\\'v [m/s]\\')\\nchart2.set_xlabel(\\'t [s]\\')\\nplt.legend(loc=\\'upper left\\')\\nplt.grid()\\nplt.show()\\n'"
            ],
            "application/vnd.google.colaboratory.intrinsic+json": {
              "type": "string"
            }
          },
          "metadata": {},
          "execution_count": 4
        },
        {
          "output_type": "display_data",
          "data": {
            "text/plain": [
              "<Figure size 576x576 with 4 Axes>"
            ],
            "image/png": "[encoded data removed]"
          },
          "metadata": {
            "needs_background": "light"
          }
        }
      ]
    },
    {
      "cell_type": "code",
      "source": [
        "\n",
        "# x\n",
        "plt.figure()\n",
        "plt.plot(x_time, y_time, label='2d trajectory', c=\"b\")\n",
        "plt.title('2d trajectory')\n",
        "plt.ylabel('y')\n",
        "plt.xlabel('x')\n",
        "plt.legend(loc='upper left')\n",
        "plt.grid()"
      ],
      "metadata": {
        "colab": {
          "base_uri": "https://localhost:8080/",
          "height": 295
        },
        "id": "khMnte6Nebnj",
        "outputId": "88a883ff-8018-4f1d-b498-82e7fb6e4d4b"
      },
      "execution_count": null,
      "outputs": [
        {
          "output_type": "display_data",
          "data": {
            "text/plain": [
              "<Figure size 432x288 with 1 Axes>"
            ],
            "image/png": "[encoded data removed]"
          },
          "metadata": {
            "needs_background": "light"
          }
        }
      ]
    },
    {
      "cell_type": "markdown",
      "source": [
        "# **Part 2: Linear Regression**\n",
        "\n"
      ],
      "metadata": {
        "id": "5xo0ewdPqUs9"
      }
    },
    {
      "cell_type": "markdown",
      "source": [
        "In this part, the aim is to build a map of the environment by combining the position of the robot with the measurements of the 2D **LIDAR** that is on-board of the robot. The LIDAR measurements consist of range (distance) from the robot to a possible obstacle for each degree of direction, that is, \n",
        "$$\n",
        "r_t = \\{r_\\beta + \\eta_r : \\beta=-179^o, -178^o, \\ldots, 0^o, \\ldots, 180^o\\}\n",
        "$$\n",
        "where $\\eta_r$ is assumed to be Gaussian noise. The sample time is the same, that is, $h=0.1\\,s$, but the LIDAR measurements are outputted every time step $t=0,0.5,1.0, 1.5, \\ldots$ (in seconds) like the robot position in the previous exercise. Moreover, if there is no obstacle within the direction of the laser range or if it is far away, that is, if the distance is greater than $5\\,m$, by convention the range measurement is set to zero. It may also happen that the LIDAR in some cases may output an *outlier*."
      ],
      "metadata": {
        "id": "PlR9vXmyqUtG"
      }
    },
    {
      "cell_type": "markdown",
      "source": [
        "The next figure shows $r_t$ as a function of the angle $\\beta$ for $t=5.0\\,s$."
      ],
      "metadata": {
        "id": "O9E-LmX4bWG4"
      }
    },
    {
      "cell_type": "code",
      "source": [
        "\n",
        "time = df[\"time\"].values\n",
        "Lidar_range = df.iloc[:, np.arange(5,365,1)].values\n",
        "\n",
        "t=5*10 # t = 5 sec * 1/sample_time\n",
        "angle = np.linspace(-179, 180, num=360)\n",
        "\n",
        "plt.figure()\n",
        "plt.scatter(angle, Lidar_range[t], color='b')\n",
        "plt.title('Lidar measurements')\n",
        "plt.ylabel('r [m]')\n",
        "plt.xlabel('$beta$ [degree]')\n",
        "plt.grid();\n",
        "\n"
      ],
      "metadata": {
        "colab": {
          "base_uri": "https://localhost:8080/",
          "height": 299
        },
        "id": "ZXitXXqLbVQX",
        "outputId": "a19ec77f-a987-4b11-d196-536b4f8fb253"
      },
      "execution_count": 5,
      "outputs": [
        {
          "output_type": "display_data",
          "data": {
            "text/plain": [
              "<Figure size 432x288 with 1 Axes>"
            ],
            "image/png": "[encoded data removed]"
          },
          "metadata": {
            "needs_background": "light"
          }
        }
      ]
    },
    {
      "cell_type": "markdown",
      "source": [
        "**2.1**\n",
        "Using the estimated position of the robot (computed in the previous exercise) and the LIDAR data, \n",
        "1. Obtain the cloud points in the 2D plan that the robot sense at **$t=5\\,s$** and plot them. Do not forget to remove the zero ranges and note that  \n",
        "\n",
        "$$\n",
        "\\begin{align*}\n",
        "\\hat x_{o,t} = \\hat x_t + r_t \\cos\\beta \\\\\n",
        "\\hat y_{o,t} = \\hat y_t + r_t \\sin\\beta\n",
        "\\end{align*}\n",
        "$$\n",
        "\n",
        "2. Perform a linear regression for the previous data using a model of the type\n",
        "\\begin{equation} \\color{green} { y = \\theta_0 + \\theta_1 x } \n",
        " \\end{equation}\n",
        "and display the results, that is, display the resulting 2d map, the mean square error, and the optimal parameters for $\\color{green} \\theta$. To this end, apply the related Least Square (LS) normal equations and **only use** the sklearn to confirm the obtained values.\n",
        "\n"
      ],
      "metadata": {
        "id": "wmMWJTMnxrdh"
      }
    },
    {
      "cell_type": "code",
      "source": [
        "# Part 2.1.1\n",
        "\n",
        "Lidar_range = df.iloc[:, np.arange(5,365,1)].values\n",
        "\n",
        "#Build the cloud points in 2D plan\n",
        "x_o, y_o = [], []\n",
        "angle = np.linspace(-179, 180, num=360)\n",
        "\n",
        "t=5*10   # t = 5 sec * 1/sample_time\n",
        "\n",
        "for i in range(len(Lidar_range[t])):\n",
        "  if Lidar_range[t][i] > 0:\n",
        "    x_o.append(x_time[t]+Lidar_range[t][i]*np.cos(angle[i]*math.pi/180))\n",
        "    y_o.append(y_time[t]+Lidar_range[t][i]*np.sin(angle[i]*math.pi/180))\n",
        "\n",
        "plt.figure()\n",
        "plt.scatter(x_o, y_o, color='b')\n",
        "plt.scatter(x_time[t], y_time[t], color='r')\n",
        "plt.title('Cloud points t=5s')\n",
        "plt.ylabel('y_o')\n",
        "plt.xlabel('x_o')\n",
        "plt.grid();\n"
      ],
      "metadata": {
        "id": "_aUyRvNUOfw-",
        "colab": {
          "base_uri": "https://localhost:8080/",
          "height": 295
        },
        "outputId": "8dfc4c1c-8f07-4111-cb35-5ae1d4268af8"
      },
      "execution_count": 6,
      "outputs": [
        {
          "output_type": "display_data",
          "data": {
            "text/plain": [
              "<Figure size 432x288 with 1 Axes>"
            ],
            "image/png": "[encoded data removed]"
          },
          "metadata": {
            "needs_background": "light"
          }
        }
      ]
    },
    {
      "cell_type": "code",
      "source": [
        "# Part 2.1.2\n",
        "\n",
        "# Linear regression\n",
        "\n",
        "import numpy as np\n",
        "from scipy import linalg\n",
        "from sklearn.metrics import mean_squared_error\n",
        "import matplotlib.pyplot as plt\n",
        "\n",
        "x_o_mat = np.array(x_o).reshape(len(x_o),1)\n",
        "\n",
        "#Create X matrix with ones\n",
        "X = np.ones((len(x_o), 1), dtype=float)\n",
        "X = np.concatenate((X, x_o_mat), axis = 1)\n",
        "#Create Y matrix\n",
        "\n",
        "Y = np.array(y_o).reshape(len(y_o),1)\n",
        "\n",
        "print(\"Training:\\n\", X.shape)\n",
        "print(\"Label:\\n\", Y.shape)\n",
        "\n",
        "print(\" Linear Regression \")\n",
        "\n",
        "# Normal Equation: (X.t X)^-1 X.t Y\n",
        "theta = np.linalg.inv(np.transpose(X) @ X) @ np.transpose(X) @ Y\n",
        "\n",
        "print(\"Parameters theta =\\n\", theta)\n",
        "\n",
        "\n",
        "# Singular Value Decomposition (SVD) of the matrix (X.t X)\n",
        "M = np.transpose(X) @ X \n",
        "u, s, vh = np.linalg.svd(M, full_matrices=True)\n",
        " \n",
        "# Precticted values\n",
        "Y_predict = X @ theta\n",
        "\n",
        "#Model's error\n",
        "MSE = mean_squared_error(Y, Y_predict)\n",
        "\n",
        "### Plot\n",
        "plt.scatter(x_o, Y, color=\"black\")\n",
        "plt.scatter(x_o,Y_predict,color=\"red\")\n",
        "plt.plot(x_o, Y_predict,  color=\"blue\", linewidth=3)\n",
        "plt.grid()\n",
        "\n",
        "title = 'MSE = {}'.format(round(MSE,2))\n",
        "plt.title(\"Linear Regression \\n \" + title, fontsize=10)\n",
        "plt.xlabel('x_o')\n",
        "plt.ylabel('label')\n",
        "plt.show()\n",
        "\n",
        "\n",
        "# Using sklearn \n",
        "from sklearn import linear_model\n",
        "from sklearn.metrics import mean_squared_error, r2_score\n",
        "model = linear_model.LinearRegression()\n",
        "model.fit(x_o_mat, Y)\n",
        "print(\"Coef = \", model.coef_)\n",
        "print(\"Intercept = \", model.intercept_)\n"
      ],
      "metadata": {
        "id": "Qhqo6j1EPLAV",
        "colab": {
          "base_uri": "https://localhost:8080/",
          "height": 479
        },
        "outputId": "4356bb1e-15dc-41eb-a57e-ffbeff45d742"
      },
      "execution_count": 7,
      "outputs": [
        {
          "output_type": "stream",
          "name": "stdout",
          "text": [
            "Training:\n",
            " (67, 2)\n",
            "Label:\n",
            " (67, 1)\n",
            " Linear Regression \n",
            "Parameters theta =\n",
            " [[-1.89428888]\n",
            " [-0.12289806]]\n"
          ]
        },
        {
          "output_type": "display_data",
          "data": {
            "text/plain": [
              "<Figure size 432x288 with 1 Axes>"
            ],
            "image/png": "[encoded data removed]"
          },
          "metadata": {
            "needs_background": "light"
          }
        },
        {
          "output_type": "stream",
          "name": "stdout",
          "text": [
            "Coef =  [[-0.12289806]]\n",
            "Intercept =  [-1.89428888]\n"
          ]
        }
      ]
    },
    {
      "cell_type": "markdown",
      "source": [
        "**2.2**\n",
        "Repeat the previous exercise but now with a polynomial model of the type\n",
        "\\begin{equation} \\color{green} { y = \\theta_0 + \\theta_1 x + \\theta_2 x^2 } \n",
        " \\end{equation}\n",
        "\n"
      ],
      "metadata": {
        "id": "Lk9QRX1fso_d"
      }
    },
    {
      "cell_type": "code",
      "source": [
        "# Linear regression\n",
        "\n",
        "import numpy as np\n",
        "from scipy import linalg\n",
        "from sklearn.metrics import mean_squared_error\n",
        "import matplotlib.pyplot as plt\n",
        "\n",
        "x_o_squared=np.array(x_o).reshape(len(x_o),1) ** 2\n",
        "\n",
        "#Create X matrix with ones\n",
        "X = np.ones((len(x_o), 1), dtype=float)\n",
        "X = np.concatenate((X, np.array(x_o).reshape(len(x_o),1)), axis = 1)\n",
        "X = np.concatenate((X, x_o_squared), axis = 1)\n",
        "\n",
        "#Create Y matrix\n",
        "\n",
        "Y = np.array(y_o).reshape(len(y_o),1)\n",
        "\n",
        "print(\"Training:\\n\", X.shape)\n",
        "print(\"Label:\\n\", Y.shape)\n",
        "\n",
        "print(\" Linear Regression \")\n",
        "\n",
        "# Normal Equation: (X.t X)^-1 X.t Y\n",
        "theta = np.linalg.inv(np.transpose(X) @ X) @ np.transpose(X) @ Y\n",
        "\n",
        "print(\"Parameters theta =\\n\", theta)\n",
        "\n",
        "\n",
        "# Singular Value Decomposition (SVD) of the matrix (X.t X)\n",
        "M = np.transpose(X) @ X \n",
        "u, s, vh = np.linalg.svd(M, full_matrices=True)\n",
        " \n",
        "# Precticted values\n",
        "Y_predict = X @ theta\n",
        "\n",
        "#Model's error\n",
        "MSE = mean_squared_error(Y, Y_predict)\n",
        "\n",
        "### Plot\n",
        "plt.scatter(x_o, Y, color=\"black\")\n",
        "plt.scatter(x_o,Y_predict,color=\"red\")\n",
        "plt.plot(x_o, Y_predict,  color=\"blue\", linewidth=3)\n",
        "plt.grid()\n",
        "\n",
        "title = 'MSE = {}'.format(round(MSE,2))\n",
        "plt.title(\"Linear Regression \\n \" + title, fontsize=10)\n",
        "plt.xlabel('x_o')\n",
        "plt.ylabel('label')\n",
        "plt.show()\n",
        "\n",
        "\n",
        "# Using sklearn \n",
        "from sklearn import linear_model\n",
        "from sklearn.metrics import mean_squared_error, r2_score\n",
        "from sklearn.preprocessing import PolynomialFeatures\n",
        "\n",
        "nb_degree=2\n",
        "polynomial_feats = PolynomialFeatures(degree=nb_degree)\n",
        "X_TRANSF = polynomial_feats.fit_transform(np.array(x_o).reshape(len(x_o),1))\n",
        "model = linear_model.LinearRegression()\n",
        "model.fit(X_TRANSF[:,[1,2]], Y)\n",
        "print(\"Coef = \", model.coef_)\n",
        "print(\"Intercept = \", model.intercept_)\n"
      ],
      "metadata": {
        "id": "hnDPJnGmPb8E",
        "colab": {
          "base_uri": "https://localhost:8080/",
          "height": 496
        },
        "outputId": "c5ff2781-2406-4927-f608-ec1a5282d44e"
      },
      "execution_count": 8,
      "outputs": [
        {
          "output_type": "stream",
          "name": "stdout",
          "text": [
            "Training:\n",
            " (67, 3)\n",
            "Label:\n",
            " (67, 1)\n",
            " Linear Regression \n",
            "Parameters theta =\n",
            " [[-1.5888367 ]\n",
            " [ 0.59776859]\n",
            " [ 0.28829671]]\n"
          ]
        },
        {
          "output_type": "display_data",
          "data": {
            "text/plain": [
              "<Figure size 432x288 with 1 Axes>"
            ],
            "image/png": "[encoded data removed]"
          },
          "metadata": {
            "needs_background": "light"
          }
        },
        {
          "output_type": "stream",
          "name": "stdout",
          "text": [
            "Coef =  [[0.59776859 0.28829671]]\n",
            "Intercept =  [-1.5888367]\n"
          ]
        }
      ]
    },
    {
      "cell_type": "markdown",
      "source": [
        "**2.3**\n",
        "At this point you can use sklearn! \n",
        "Do the same as the previous exercise (polynomial model) but now with **degree 10**. Moreover, implement also a regression with **Ridge** regularization and a regression with **LASSO** regularization. Do not forget to display the obtained results. What can you conclude?\n",
        "\n",
        "\n"
      ],
      "metadata": {
        "id": "YZbRU5SwtKUs"
      }
    },
    {
      "cell_type": "code",
      "source": [
        "# To complete\n",
        "\n",
        "# Using sklearn \n",
        "from sklearn import linear_model\n",
        "from sklearn.metrics import mean_squared_error, r2_score\n",
        "from sklearn.preprocessing import PolynomialFeatures\n",
        "\n",
        "nb_degree=10\n",
        "polynomial_feats = PolynomialFeatures(degree=nb_degree)\n",
        "X_TRANSF = polynomial_feats.fit_transform(np.array(x_o).reshape(len(x_o),1))\n",
        "\n",
        "model = linear_model.LinearRegression()\n",
        "model.fit(X_TRANSF[:,1:11], Y)\n",
        "Y_predict = model.predict(X_TRANSF[:,1:11])\n",
        "\n",
        "print(\"Coef = \", model.coef_)\n",
        "print(\"Intercept = \", model.intercept_)\n",
        "\n",
        "plt.scatter(x_o, Y, color=\"black\")\n",
        "plt.scatter(x_o,Y_predict,color=\"red\")\n",
        "plt.plot(x_o, Y_predict,  color=\"blue\", linewidth=3)\n",
        "plt.grid()\n",
        "\n",
        "title = 'MSE = {}'.format(round(MSE,2))\n",
        "plt.title(\"Linear Regression \\n \" + title, fontsize=10)\n",
        "plt.xlabel('x_o')\n",
        "plt.ylabel('label')\n",
        "plt.show()\n"
      ],
      "metadata": {
        "id": "VZSNRThACnxm",
        "colab": {
          "base_uri": "https://localhost:8080/",
          "height": 357
        },
        "outputId": "7560c96d-8180-494f-c30f-58cf75ebcb87"
      },
      "execution_count": 9,
      "outputs": [
        {
          "output_type": "stream",
          "name": "stdout",
          "text": [
            "Coef =  [[  0.30975685   2.23117542   1.88214519 -16.7634326  -43.6667217\n",
            "  -46.71191393 -26.6624121   -8.48543175  -1.41650206  -0.09624344]]\n",
            "Intercept =  [-1.66704149]\n"
          ]
        },
        {
          "output_type": "display_data",
          "data": {
            "text/plain": [
              "<Figure size 432x288 with 1 Axes>"
            ],
            "image/png": "[encoded data removed]"
          },
          "metadata": {
            "needs_background": "light"
          }
        }
      ]
    },
    {
      "cell_type": "markdown",
      "source": [
        "**2.4**\n",
        "We now would like to use all the LIDAR data. One simple option (off-line) is to make a data set with all the cloud point positions in 2D and apply the linear regression techniques.\n",
        "\n",
        "Using sklearn, do this for LS, LS+Ridge, LS+LASSO using the polynomial model of degree 10. Display the results (map 2D) and the optimal values for \n",
        "$\\color{green} \\theta$.\n"
      ],
      "metadata": {
        "id": "9veYc9S-t3P-"
      }
    },
    {
      "cell_type": "code",
      "source": [
        "# To complete\n"
      ],
      "metadata": {
        "id": "5eNYt02KDFNM"
      },
      "execution_count": null,
      "outputs": []
    },
    {
      "cell_type": "markdown",
      "source": [
        "**2.5 (Extra)** \n",
        "Another option (on-line) is to make a linear regression with only the LIDAR data that is being acquired at each snapshot of time $t=0, 0.5, 1.0, \\ldots$ and update the optimal value $\\color{green} \\theta$ using a gradient descent rule\n",
        "$$\n",
        "\\color{green}\n",
        "{\\theta_{t+1}=\\theta_t - \\gamma \\nabla J(\\theta_t),}\n",
        "$$\n",
        "where $\\color{green} \\gamma>0$ is the learning rate, and $\\color{green}\n",
        " {\\nabla J(\\theta_{t})}$ is the gradient at each snapshot of the cost\n",
        "$$\n",
        "\\color{green}\n",
        "{J(\\theta) = \\sum_{n=1}^N \\big(y_n-\\theta^{T} \\phi(x_n)\\big)^2 }\n",
        "$$\n",
        "where $N$ is the number of valid (that is non zero) range measurements at instant $t$.\n",
        "\n",
        "Implement this strategy and plot the results.\n",
        "\n",
        "**Note:** This question is optional. If you solve it, you get extra 15 points (in 100)."
      ],
      "metadata": {
        "id": "XI2gmxIPM7Oj"
      }
    },
    {
      "cell_type": "code",
      "source": [
        "# To complete\n"
      ],
      "metadata": {
        "id": "nN3uAXcYSCxK"
      },
      "execution_count": null,
      "outputs": []
    }
  ],
  "metadata": {
    "colab": {
      "provenance": []
    },
    "kernelspec": {
      "display_name": "Python 3",
      "language": "python",
      "name": "python3"
    },
    "language_info": {
      "codemirror_mode": {
        "name": "ipython",
        "version": 3
      },
      "file_extension": ".py",
      "mimetype": "text/x-python",
      "name": "python",
      "nbconvert_exporter": "python",
      "pygments_lexer": "ipython3",
      "version": "3.8.2"
    }
  },
  "nbformat": 4,
  "nbformat_minor": 0
}